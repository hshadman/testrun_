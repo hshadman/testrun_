{
 "cells": [
  {
   "cell_type": "code",
   "execution_count": 96,
   "metadata": {},
   "outputs": [],
   "source": [
    "import spacy\n",
    "import pandas as pd\n",
    "import numpy as np\n"
   ]
  },
  {
   "cell_type": "code",
   "execution_count": 57,
   "metadata": {},
   "outputs": [
    {
     "data": {
      "text/plain": [
       "OfficialTitle                  53\n",
       "StudyType                       0\n",
       "StartDate                      42\n",
       "Condition                       0\n",
       "ConditionAncestorTerm         571\n",
       "ArmGroupInterventionName     1128\n",
       "InterventionArmGroupLabel    1124\n",
       "InterventionDescription      1158\n",
       "dtype: int64"
      ]
     },
     "execution_count": 57,
     "metadata": {},
     "output_type": "execute_result"
    }
   ],
   "source": [
    "text_data = pd.read_csv('clinical_trials_dataset.csv')\n",
    "#text_data = text_data.dropna(axis=0,how='any').reset_index(drop=True)\n",
    "text_data = text_data[['OfficialTitle','StudyType','StartDate',\n",
    "           'Condition','ConditionAncestorTerm',\n",
    "           'ArmGroupInterventionName','InterventionArmGroupLabel','InterventionDescription']].copy()\n",
    "#text_data[text_data['ArmGroupInterventionName'].str.contains('Genetic')]\n",
    "text_data.isna().sum()"
   ]
  },
  {
   "cell_type": "code",
   "execution_count": 110,
   "metadata": {},
   "outputs": [],
   "source": [
    "#deal with nan values column by column\n",
    "test = text_data.copy()\n",
    "test = test.fillna({'StartDate':'unknown'}).copy()\n",
    "test = test.fillna({'OfficialTitle':'unknown'}).copy()\n",
    "test['ConditionAncestorTerm'] = test['ConditionAncestorTerm'].fillna(test['Condition'])\n",
    "test = test.fillna({'ArmGroupInterventionName':'other or NA'}).copy()\n",
    "test = test.fillna({'InterventionArmGroupLabel':'other or NA'}).copy()\n",
    "test = test.fillna({'InterventionDescription':'other or NA'}).copy()\n",
    "text_data = test.copy()\n",
    "\n",
    "del test"
   ]
  },
  {
   "cell_type": "code",
   "execution_count": 112,
   "metadata": {},
   "outputs": [
    {
     "data": {
      "text/plain": [
       "OfficialTitle                0\n",
       "StudyType                    0\n",
       "StartDate                    0\n",
       "Condition                    0\n",
       "ConditionAncestorTerm        0\n",
       "ArmGroupInterventionName     0\n",
       "InterventionArmGroupLabel    0\n",
       "InterventionDescription      0\n",
       "dtype: int64"
      ]
     },
     "execution_count": 112,
     "metadata": {},
     "output_type": "execute_result"
    }
   ],
   "source": [
    "#replace nan values with other appropriate values\n",
    "text_data.isna().sum()"
   ]
  },
  {
   "cell_type": "code",
   "execution_count": null,
   "metadata": {},
   "outputs": [],
   "source": []
  }
 ],
 "metadata": {
  "kernelspec": {
   "display_name": "Python 3",
   "language": "python",
   "name": "python3"
  },
  "language_info": {
   "codemirror_mode": {
    "name": "ipython",
    "version": 3
   },
   "file_extension": ".py",
   "mimetype": "text/x-python",
   "name": "python",
   "nbconvert_exporter": "python",
   "pygments_lexer": "ipython3",
   "version": "3.9.12"
  }
 },
 "nbformat": 4,
 "nbformat_minor": 2
}
