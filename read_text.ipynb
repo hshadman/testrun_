{
 "cells": [
  {
   "cell_type": "code",
   "execution_count": 96,
   "metadata": {},
   "outputs": [],
   "source": [
    "import spacy\n",
    "import pandas as pd\n",
    "import numpy as np\n",
    "\n"
   ]
  },
  {
   "cell_type": "code",
   "execution_count": 57,
   "metadata": {},
   "outputs": [
    {
     "data": {
      "text/plain": [
       "OfficialTitle                  53\n",
       "StudyType                       0\n",
       "StartDate                      42\n",
       "Condition                       0\n",
       "ConditionAncestorTerm         571\n",
       "ArmGroupInterventionName     1128\n",
       "InterventionArmGroupLabel    1124\n",
       "InterventionDescription      1158\n",
       "dtype: int64"
      ]
     },
     "execution_count": 57,
     "metadata": {},
     "output_type": "execute_result"
    }
   ],
   "source": [
    "text_data = pd.read_csv('clinical_trials_dataset.csv')\n",
    "#text_data = text_data.dropna(axis=0,how='any').reset_index(drop=True)\n",
    "text_data = text_data[['OfficialTitle','StudyType','StartDate',\n",
    "           'Condition','ConditionAncestorTerm',\n",
    "           'ArmGroupInterventionName','InterventionArmGroupLabel','InterventionDescription']].copy()\n",
    "#text_data[text_data['ArmGroupInterventionName'].str.contains('Genetic')]\n",
    "text_data.isna().sum()"
   ]
  },
  {
   "cell_type": "code",
   "execution_count": 110,
   "metadata": {},
   "outputs": [],
   "source": [
    "#deal with nan values column by column\n",
    "test = text_data.copy()\n",
    "test = test.fillna({'StartDate':'unknown'}).copy()\n",
    "test = test.fillna({'OfficialTitle':'unknown'}).copy()\n",
    "test['ConditionAncestorTerm'] = test['ConditionAncestorTerm'].fillna(test['Condition'])\n",
    "test = test.fillna({'ArmGroupInterventionName':'other or NA'}).copy()\n",
    "test = test.fillna({'InterventionArmGroupLabel':'other or NA'}).copy()\n",
    "test = test.fillna({'InterventionDescription':'other or NA'}).copy()\n",
    "text_data = test.copy()\n",
    "\n",
    "del test"
   ]
  },
  {
   "cell_type": "code",
   "execution_count": 112,
   "metadata": {},
   "outputs": [
    {
     "data": {
      "text/plain": [
       "OfficialTitle                0\n",
       "StudyType                    0\n",
       "StartDate                    0\n",
       "Condition                    0\n",
       "ConditionAncestorTerm        0\n",
       "ArmGroupInterventionName     0\n",
       "InterventionArmGroupLabel    0\n",
       "InterventionDescription      0\n",
       "dtype: int64"
      ]
     },
     "execution_count": 112,
     "metadata": {},
     "output_type": "execute_result"
    }
   ],
   "source": [
    "#replace nan values with other appropriate values\n",
    "text_data.isna().sum()"
   ]
  },
  {
   "cell_type": "code",
   "execution_count": 136,
   "metadata": {},
   "outputs": [
    {
     "data": {
      "text/html": [
       "<div>\n",
       "<style scoped>\n",
       "    .dataframe tbody tr th:only-of-type {\n",
       "        vertical-align: middle;\n",
       "    }\n",
       "\n",
       "    .dataframe tbody tr th {\n",
       "        vertical-align: top;\n",
       "    }\n",
       "\n",
       "    .dataframe thead th {\n",
       "        text-align: right;\n",
       "    }\n",
       "</style>\n",
       "<table border=\"1\" class=\"dataframe\">\n",
       "  <thead>\n",
       "    <tr style=\"text-align: right;\">\n",
       "      <th></th>\n",
       "      <th>OfficialTitle</th>\n",
       "      <th>StudyType</th>\n",
       "      <th>StartDate</th>\n",
       "      <th>Condition</th>\n",
       "      <th>ConditionAncestorTerm</th>\n",
       "      <th>ArmGroupInterventionName</th>\n",
       "      <th>InterventionArmGroupLabel</th>\n",
       "      <th>InterventionDescription</th>\n",
       "    </tr>\n",
       "  </thead>\n",
       "  <tbody>\n",
       "    <tr>\n",
       "      <th>0</th>\n",
       "      <td>Phase I/IIa, First-in-human, Open-label, Singl...</td>\n",
       "      <td>Interventional</td>\n",
       "      <td>September 2024</td>\n",
       "      <td>Drug Resistant Epilepsy</td>\n",
       "      <td>Brain Diseases|Central Nervous System Diseases...</td>\n",
       "      <td>Genetic: lentiviral gene therapy</td>\n",
       "      <td>lentiviral gene therapy treatment (Interventio...</td>\n",
       "      <td>lentiviral gene therapy to treat drug resistan...</td>\n",
       "    </tr>\n",
       "    <tr>\n",
       "      <th>5</th>\n",
       "      <td>A Phase I Study to Assess the Safety, Tolerabi...</td>\n",
       "      <td>Interventional</td>\n",
       "      <td>February 7, 2022</td>\n",
       "      <td>Alzheimer's Disease|Mild Cognitive Impairment</td>\n",
       "      <td>Dementia|Brain Diseases|Central Nervous System...</td>\n",
       "      <td>Genetic: AAV2-BDNF Gene Therapy|Biological: AA...</td>\n",
       "      <td>Gene transfer of AAV2-BDNF|Gene transfer of AA...</td>\n",
       "      <td>AAV2-BDNF is a genetically engineered adeno-as...</td>\n",
       "    </tr>\n",
       "    <tr>\n",
       "      <th>7</th>\n",
       "      <td>A Phase I/II Clinical Trial of Hematopoietic S...</td>\n",
       "      <td>Interventional</td>\n",
       "      <td>April 9, 2010</td>\n",
       "      <td>Lysosomal Storage Disease|Metachromatic Leukod...</td>\n",
       "      <td>Metabolism, Inborn Errors|Genetic Diseases, In...</td>\n",
       "      <td>Genetic: OTL-200 Gene Therapy</td>\n",
       "      <td>OTL-200 Gene Therapy</td>\n",
       "      <td>Autologous hematopoietic stem/progenitor cells...</td>\n",
       "    </tr>\n",
       "    <tr>\n",
       "      <th>8</th>\n",
       "      <td>Phase I/II Clinical Trial of Autologous Hemato...</td>\n",
       "      <td>Interventional</td>\n",
       "      <td>July 23, 2021</td>\n",
       "      <td>Severe Combined Immunodeficiency Due to RAG1 D...</td>\n",
       "      <td>Immune System Diseases|Primary Immunodeficienc...</td>\n",
       "      <td>Genetic: Gene therapy</td>\n",
       "      <td>Gene therapy</td>\n",
       "      <td>Patients will be infused with autologous CD34+...</td>\n",
       "    </tr>\n",
       "    <tr>\n",
       "      <th>12</th>\n",
       "      <td>A Phase I/II Gene Therapy Trial for X-CGD With...</td>\n",
       "      <td>Interventional</td>\n",
       "      <td>July 2013</td>\n",
       "      <td>X-linked Chronic Granulomatous Disease</td>\n",
       "      <td>Pathologic Processes|Phagocyte Bactericidal Dy...</td>\n",
       "      <td>Genetic: ex-vivo gene-therapy</td>\n",
       "      <td>ex-vivo gene-therapy</td>\n",
       "      <td>transplantation autologous CD34+ cells, transd...</td>\n",
       "    </tr>\n",
       "    <tr>\n",
       "      <th>...</th>\n",
       "      <td>...</td>\n",
       "      <td>...</td>\n",
       "      <td>...</td>\n",
       "      <td>...</td>\n",
       "      <td>...</td>\n",
       "      <td>...</td>\n",
       "      <td>...</td>\n",
       "      <td>...</td>\n",
       "    </tr>\n",
       "    <tr>\n",
       "      <th>5804</th>\n",
       "      <td>An Open-label, Dose-escalation Study to Evalua...</td>\n",
       "      <td>Interventional</td>\n",
       "      <td>May 5, 2023</td>\n",
       "      <td>Neovascular Age-related Macular Degeneration</td>\n",
       "      <td>Retinal Degeneration|Retinal Diseases|Eye Dise...</td>\n",
       "      <td>Genetic: SKG0106|Genetic: SKG0106|Genetic: SKG...</td>\n",
       "      <td>Dose Level 1|Dose Level 2|Dose Level 3</td>\n",
       "      <td>SKG0106 is a recombinant adeno-associated viru...</td>\n",
       "    </tr>\n",
       "    <tr>\n",
       "      <th>5858</th>\n",
       "      <td>WEST-KOaST Study: WES (Whole Exome Sequencing)...</td>\n",
       "      <td>Interventional</td>\n",
       "      <td>December 1, 2023</td>\n",
       "      <td>Testicular Cancer</td>\n",
       "      <td>Endocrine Gland Neoplasms|Neoplasms by Site|Ne...</td>\n",
       "      <td>Genetic: Analysis of biological samples of sal...</td>\n",
       "      <td>First-degree family members of patients with t...</td>\n",
       "      <td>The project aims to collect biological samples...</td>\n",
       "    </tr>\n",
       "    <tr>\n",
       "      <th>5864</th>\n",
       "      <td>Phase II Study of Capecitabine in Combination ...</td>\n",
       "      <td>Interventional</td>\n",
       "      <td>November 2006</td>\n",
       "      <td>Esophageal Cancer</td>\n",
       "      <td>Gastrointestinal Neoplasms|Digestive System Ne...</td>\n",
       "      <td>Drug: capecitabine|Drug: oxaliplatin|Genetic: ...</td>\n",
       "      <td>Chemo|Chemo|Chemo|Chemo|Chemo|Chemo|Chemo|Chem...</td>\n",
       "      <td>Oral|IV|Correlative Study|Correlative Study|Co...</td>\n",
       "    </tr>\n",
       "    <tr>\n",
       "      <th>5887</th>\n",
       "      <td>Neoadjuvant Intratumoral Injection of Dendriti...</td>\n",
       "      <td>Interventional</td>\n",
       "      <td>May 1, 2006</td>\n",
       "      <td>Breast Cancer</td>\n",
       "      <td>Neoplasms by Site|Neoplasms|Breast Diseases|Sk...</td>\n",
       "      <td>Biological: therapeutic autologous dendritic c...</td>\n",
       "      <td>Vaccine|Vaccine|Vaccine|Vaccine|Vaccine|Vaccin...</td>\n",
       "      <td>injected into the primary breast mass or palpa...</td>\n",
       "    </tr>\n",
       "    <tr>\n",
       "      <th>6076</th>\n",
       "      <td>A Phase I/II Trial of Temozolomide and ABT-888...</td>\n",
       "      <td>Interventional</td>\n",
       "      <td>July 13, 2009</td>\n",
       "      <td>Brain and Central Nervous System Tumors</td>\n",
       "      <td>Astrocytoma|Glioma|Neoplasms, Neuroepithelial|...</td>\n",
       "      <td>Drug: temozolomide|Drug: veliparib|Genetic: DN...</td>\n",
       "      <td>Dose Escalation|Dose Escalation|Dose Escalatio...</td>\n",
       "      <td>other or NA</td>\n",
       "    </tr>\n",
       "  </tbody>\n",
       "</table>\n",
       "<p>425 rows × 8 columns</p>\n",
       "</div>"
      ],
      "text/plain": [
       "                                          OfficialTitle       StudyType  \\\n",
       "0     Phase I/IIa, First-in-human, Open-label, Singl...  Interventional   \n",
       "5     A Phase I Study to Assess the Safety, Tolerabi...  Interventional   \n",
       "7     A Phase I/II Clinical Trial of Hematopoietic S...  Interventional   \n",
       "8     Phase I/II Clinical Trial of Autologous Hemato...  Interventional   \n",
       "12    A Phase I/II Gene Therapy Trial for X-CGD With...  Interventional   \n",
       "...                                                 ...             ...   \n",
       "5804  An Open-label, Dose-escalation Study to Evalua...  Interventional   \n",
       "5858  WEST-KOaST Study: WES (Whole Exome Sequencing)...  Interventional   \n",
       "5864  Phase II Study of Capecitabine in Combination ...  Interventional   \n",
       "5887  Neoadjuvant Intratumoral Injection of Dendriti...  Interventional   \n",
       "6076  A Phase I/II Trial of Temozolomide and ABT-888...  Interventional   \n",
       "\n",
       "             StartDate                                          Condition  \\\n",
       "0       September 2024                            Drug Resistant Epilepsy   \n",
       "5     February 7, 2022      Alzheimer's Disease|Mild Cognitive Impairment   \n",
       "7        April 9, 2010  Lysosomal Storage Disease|Metachromatic Leukod...   \n",
       "8        July 23, 2021  Severe Combined Immunodeficiency Due to RAG1 D...   \n",
       "12           July 2013             X-linked Chronic Granulomatous Disease   \n",
       "...                ...                                                ...   \n",
       "5804       May 5, 2023       Neovascular Age-related Macular Degeneration   \n",
       "5858  December 1, 2023                                  Testicular Cancer   \n",
       "5864     November 2006                                  Esophageal Cancer   \n",
       "5887       May 1, 2006                                      Breast Cancer   \n",
       "6076     July 13, 2009            Brain and Central Nervous System Tumors   \n",
       "\n",
       "                                  ConditionAncestorTerm  \\\n",
       "0     Brain Diseases|Central Nervous System Diseases...   \n",
       "5     Dementia|Brain Diseases|Central Nervous System...   \n",
       "7     Metabolism, Inborn Errors|Genetic Diseases, In...   \n",
       "8     Immune System Diseases|Primary Immunodeficienc...   \n",
       "12    Pathologic Processes|Phagocyte Bactericidal Dy...   \n",
       "...                                                 ...   \n",
       "5804  Retinal Degeneration|Retinal Diseases|Eye Dise...   \n",
       "5858  Endocrine Gland Neoplasms|Neoplasms by Site|Ne...   \n",
       "5864  Gastrointestinal Neoplasms|Digestive System Ne...   \n",
       "5887  Neoplasms by Site|Neoplasms|Breast Diseases|Sk...   \n",
       "6076  Astrocytoma|Glioma|Neoplasms, Neuroepithelial|...   \n",
       "\n",
       "                               ArmGroupInterventionName  \\\n",
       "0                      Genetic: lentiviral gene therapy   \n",
       "5     Genetic: AAV2-BDNF Gene Therapy|Biological: AA...   \n",
       "7                         Genetic: OTL-200 Gene Therapy   \n",
       "8                                 Genetic: Gene therapy   \n",
       "12                        Genetic: ex-vivo gene-therapy   \n",
       "...                                                 ...   \n",
       "5804  Genetic: SKG0106|Genetic: SKG0106|Genetic: SKG...   \n",
       "5858  Genetic: Analysis of biological samples of sal...   \n",
       "5864  Drug: capecitabine|Drug: oxaliplatin|Genetic: ...   \n",
       "5887  Biological: therapeutic autologous dendritic c...   \n",
       "6076  Drug: temozolomide|Drug: veliparib|Genetic: DN...   \n",
       "\n",
       "                              InterventionArmGroupLabel  \\\n",
       "0     lentiviral gene therapy treatment (Interventio...   \n",
       "5     Gene transfer of AAV2-BDNF|Gene transfer of AA...   \n",
       "7                                  OTL-200 Gene Therapy   \n",
       "8                                          Gene therapy   \n",
       "12                                 ex-vivo gene-therapy   \n",
       "...                                                 ...   \n",
       "5804             Dose Level 1|Dose Level 2|Dose Level 3   \n",
       "5858  First-degree family members of patients with t...   \n",
       "5864  Chemo|Chemo|Chemo|Chemo|Chemo|Chemo|Chemo|Chem...   \n",
       "5887  Vaccine|Vaccine|Vaccine|Vaccine|Vaccine|Vaccin...   \n",
       "6076  Dose Escalation|Dose Escalation|Dose Escalatio...   \n",
       "\n",
       "                                InterventionDescription  \n",
       "0     lentiviral gene therapy to treat drug resistan...  \n",
       "5     AAV2-BDNF is a genetically engineered adeno-as...  \n",
       "7     Autologous hematopoietic stem/progenitor cells...  \n",
       "8     Patients will be infused with autologous CD34+...  \n",
       "12    transplantation autologous CD34+ cells, transd...  \n",
       "...                                                 ...  \n",
       "5804  SKG0106 is a recombinant adeno-associated viru...  \n",
       "5858  The project aims to collect biological samples...  \n",
       "5864  Oral|IV|Correlative Study|Correlative Study|Co...  \n",
       "5887  injected into the primary breast mass or palpa...  \n",
       "6076                                        other or NA  \n",
       "\n",
       "[425 rows x 8 columns]"
      ]
     },
     "execution_count": 136,
     "metadata": {},
     "output_type": "execute_result"
    }
   ],
   "source": [
    "text_data[(text_data['ArmGroupInterventionName'].str.contains('Genetic:')) & (text_data['StudyType']=='Interventional')]"
   ]
  },
  {
   "cell_type": "code",
   "execution_count": 141,
   "metadata": {},
   "outputs": [
    {
     "data": {
      "text/plain": [
       "['Brain Diseases',\n",
       " 'Central Nervous System Diseases',\n",
       " 'Nervous System Diseases']"
      ]
     },
     "execution_count": 141,
     "metadata": {},
     "output_type": "execute_result"
    }
   ],
   "source": [
    "text_data['mod_ConditionAncestorTerm'] = "
   ]
  },
  {
   "cell_type": "code",
   "execution_count": 154,
   "metadata": {},
   "outputs": [
    {
     "data": {
      "text/plain": [
       "'Central Nervous System Diseases'"
      ]
     },
     "execution_count": 154,
     "metadata": {},
     "output_type": "execute_result"
    }
   ],
   "source": [
    "text_data['ConditionAncestorTerm'][0].split('|')"
   ]
  },
  {
   "cell_type": "code",
   "execution_count": 169,
   "metadata": {},
   "outputs": [],
   "source": [
    "def minimum_cond_name(cond_list):\n",
    "    con_size=[]\n",
    "    for elem in text_data['ConditionAncestorTerm'][0].split('|'):\n",
    "        con_size.append(elem.count(' '))\n",
    "    return cond_list[con_size.index(min(con_size))]"
   ]
  },
  {
   "cell_type": "code",
   "execution_count": 168,
   "metadata": {},
   "outputs": [
    {
     "data": {
      "text/plain": [
       "'Brain Diseases'"
      ]
     },
     "execution_count": 168,
     "metadata": {},
     "output_type": "execute_result"
    }
   ],
   "source": []
  },
  {
   "cell_type": "code",
   "execution_count": null,
   "metadata": {},
   "outputs": [],
   "source": []
  }
 ],
 "metadata": {
  "kernelspec": {
   "display_name": "Python 3",
   "language": "python",
   "name": "python3"
  },
  "language_info": {
   "codemirror_mode": {
    "name": "ipython",
    "version": 3
   },
   "file_extension": ".py",
   "mimetype": "text/x-python",
   "name": "python",
   "nbconvert_exporter": "python",
   "pygments_lexer": "ipython3",
   "version": "3.9.12"
  }
 },
 "nbformat": 4,
 "nbformat_minor": 2
}
